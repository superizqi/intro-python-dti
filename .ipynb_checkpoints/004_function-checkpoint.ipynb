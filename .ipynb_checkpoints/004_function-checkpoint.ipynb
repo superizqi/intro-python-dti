{
 "cells": [
  {
   "cell_type": "markdown",
   "metadata": {
    "id": "K62nVPYYwPRt"
   },
   "source": [
    "*Research Center Digital Business Ecosystem - Telkom University*\n",
    "\n",
    "\n",
    "---\n",
    "\n"
   ]
  },
  {
   "cell_type": "markdown",
   "metadata": {
    "id": "0lv5orlUufRY"
   },
   "source": [
    "# **Function**\n",
    "A function is a set of statements that take inputs, do some specific computation and produces output. The idea is to put some commonly or repeatedly done task together and make a function, so that instead of writing the same code again and again for different inputs, we can call the function.\n",
    "Functions need to be defined, and following are the set of rules to be followed to define a\n",
    "function in Python.\n",
    "\n",
    "• The keyword def denotes the beginning of a function block that will\n",
    "be followed by the name of the function and open, close parentheses.\n",
    "After this, put a colon (:) to indicate the end of the function header.\n",
    "\n",
    "• Functions can accept arguments or parameters. Any such input\n",
    "arguments or parameters should be placed within the parentheses in\n",
    "the header of the parameter.\n",
    "\n",
    "• The main code statements are to be put below the function header\n",
    "and should be indented, which indicates that the code is part of the\n",
    "same function.\n",
    "\n",
    "• Functions can return the expression to the caller. If the return method\n",
    "is not used at the end of the function, it will act as a subprocedure.\n",
    "The key difference between the function and the subprocedure\n",
    "is that the function will always return an expression, whereas the\n",
    "subprocedure will not."
   ]
  },
  {
   "cell_type": "markdown",
   "metadata": {
    "id": "YeNADPIaaoUs"
   },
   "source": [
    "Listing 1-43. Example Code for Creating Functions Without Argument"
   ]
  },
  {
   "cell_type": "code",
   "execution_count": 1,
   "metadata": {
    "id": "Bsd4hh9BamKO"
   },
   "outputs": [
    {
     "name": "stdout",
     "output_type": "stream",
     "text": [
      "Hello World\n"
     ]
    }
   ],
   "source": [
    "# Simple function\n",
    "def someFunction( ):\n",
    "  print (\"Hello World\")\n",
    "# Call the function\n",
    "someFunction( )"
   ]
  },
  {
   "cell_type": "markdown",
   "metadata": {
    "id": "V14c3vEwa4pC"
   },
   "source": [
    "Listing 1-44. Example Code for Creating Functions with Arguments"
   ]
  },
  {
   "cell_type": "code",
   "execution_count": 2,
   "metadata": {
    "id": "znxUm0q-a5l-"
   },
   "outputs": [
    {
     "name": "stdout",
     "output_type": "stream",
     "text": [
      "3\n",
      "20\n",
      "15\n"
     ]
    }
   ],
   "source": [
    "# simple function to add two numbers\n",
    "def sum_two_numbers(a, b):\n",
    "  return a + b\n",
    "# after this line x will hold the value 3!\n",
    "x = sum_two_numbers(1,2)\n",
    "print (x)\n",
    "# You can also set default value for argument(s) in a function. In the\n",
    "# below example value of b is set to 10 as default\n",
    "def sum_two_numbers(a, b = 10):\n",
    "  return a + b\n",
    "print (sum_two_numbers(10))\n",
    "print (sum_two_numbers(10, 5))"
   ]
  },
  {
   "cell_type": "markdown",
   "metadata": {
    "id": "4RbjRwPT2Ncu"
   },
   "source": [
    "## **Default Arguments**\n",
    "A default argument is a parameter that assumes a default value if a value is not provided in the function call for that argument.The following example illustrates Default arguments."
   ]
  },
  {
   "cell_type": "code",
   "execution_count": 3,
   "metadata": {
    "id": "jvrGjm0C4dHS"
   },
   "outputs": [
    {
     "name": "stdout",
     "output_type": "stream",
     "text": [
      "x:  10\n",
      "y:  50\n"
     ]
    }
   ],
   "source": [
    "# Python program to demonstrate \n",
    "# default arguments \n",
    "def myFun(x, y=50): \n",
    "\tprint(\"x: \", x) \n",
    "\tprint(\"y: \", y) \n",
    "\n",
    "# Driver code (We call myFun() with only \n",
    "# argument) \n",
    "myFun(10) "
   ]
  },
  {
   "cell_type": "markdown",
   "metadata": {
    "id": "cwiKOVYx41l_"
   },
   "source": [
    "## **Keyword Arguments**\n",
    "The idea is to allow caller to specify argument name with values so that caller does not need to remember order of parameters"
   ]
  },
  {
   "cell_type": "code",
   "execution_count": 4,
   "metadata": {
    "id": "oMxEpk5b41mD"
   },
   "outputs": [
    {
     "name": "stdout",
     "output_type": "stream",
     "text": [
      "Geeks Practice\n",
      "Geeks Practice\n"
     ]
    }
   ],
   "source": [
    "# Python program to demonstrate Keyword Arguments \n",
    "def student(firstname, lastname): \n",
    "\tprint(firstname, lastname) \n",
    "\t\n",
    "\t\n",
    "# Keyword arguments\t\t\t\t \n",
    "student(firstname ='Geeks', lastname ='Practice')\t \n",
    "student(lastname ='Practice', firstname ='Geeks') "
   ]
  },
  {
   "cell_type": "markdown",
   "metadata": {
    "id": "vL38OXJT5DU1"
   },
   "source": [
    "## **Variable length arguments**\n",
    "We can have both normal and keyword variable number of arguments. Please see this for details."
   ]
  },
  {
   "cell_type": "code",
   "execution_count": 5,
   "metadata": {
    "id": "wTiBPyuf5DU5"
   },
   "outputs": [
    {
     "name": "stdout",
     "output_type": "stream",
     "text": [
      "Hello\n",
      "Welcome\n",
      "to\n",
      "GeeksforGeeks\n"
     ]
    }
   ],
   "source": [
    "# Python program to illustrate \n",
    "# *args for variable number of arguments \n",
    "def myFun(*argv): \n",
    "\tfor arg in argv: \n",
    "\t\tprint (arg) \n",
    "\t\n",
    "myFun('Hello', 'Welcome', 'to', 'GeeksforGeeks') \n"
   ]
  },
  {
   "cell_type": "code",
   "execution_count": 6,
   "metadata": {
    "id": "8rrFGnDc5MM9"
   },
   "outputs": [
    {
     "name": "stdout",
     "output_type": "stream",
     "text": [
      "first == Geeks\n",
      "mid == for\n",
      "last == Geeks\n"
     ]
    }
   ],
   "source": [
    "# Python program to illustrate \n",
    "# *kargs for variable number of keyword arguments \n",
    "\n",
    "def myFun(**kwargs): \n",
    "\tfor key, value in kwargs.items(): \n",
    "\t\tprint (\"%s == %s\" %(key, value)) \n",
    "\n",
    "# Driver code \n",
    "myFun(first ='Geeks', mid ='for', last='Geeks')\t \n"
   ]
  },
  {
   "cell_type": "markdown",
   "metadata": {
    "id": "RE-nfDqO5OXK"
   },
   "source": [
    "## **Anonymous functions**\n",
    "In Python, anonymous function means that a function is without a name. As we already know that def keyword is used to define the normal functions and the lambda keyword is used to create anonymous functions."
   ]
  },
  {
   "cell_type": "code",
   "execution_count": 7,
   "metadata": {
    "id": "D64eVbcX5OXN"
   },
   "outputs": [
    {
     "name": "stdout",
     "output_type": "stream",
     "text": [
      "343\n"
     ]
    }
   ],
   "source": [
    "# Python code to illustrate cube of a number \n",
    "# using labmda function \n",
    "\t\n",
    "cube = lambda x: x*x*x \n",
    "print(cube(7)) "
   ]
  }
 ],
 "metadata": {
  "colab": {
   "include_colab_link": true,
   "name": "Copy of 004_function",
   "provenance": []
  },
  "kernelspec": {
   "display_name": "Python 3",
   "language": "python",
   "name": "python3"
  },
  "language_info": {
   "codemirror_mode": {
    "name": "ipython",
    "version": 3
   },
   "file_extension": ".py",
   "mimetype": "text/x-python",
   "name": "python",
   "nbconvert_exporter": "python",
   "pygments_lexer": "ipython3",
   "version": "3.8.3"
  }
 },
 "nbformat": 4,
 "nbformat_minor": 1
}
