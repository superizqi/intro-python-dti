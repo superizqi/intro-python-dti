{
 "cells": [
  {
   "cell_type": "markdown",
   "metadata": {
    "colab_type": "text",
    "id": "K62nVPYYwPRt"
   },
   "source": [
    "*Research Center Digital Business Ecosystem - Telkom University*\n",
    "\n",
    "\n",
    "---\n",
    "\n"
   ]
  },
  {
   "cell_type": "markdown",
   "metadata": {
    "colab_type": "text",
    "id": "0lv5orlUufRY"
   },
   "source": [
    "# **Control Flow**\n",
    "Control flow (or flow of control) is the order in which individual statements, instructions or function calls of an imperative program are executed or evaluated."
   ]
  },
  {
   "cell_type": "markdown",
   "metadata": {
    "colab_type": "text",
    "id": "4RbjRwPT2Ncu"
   },
   "source": [
    "## **If Statement**"
   ]
  },
  {
   "cell_type": "markdown",
   "metadata": {
    "colab_type": "text",
    "id": "2EW91AFVuYzA"
   },
   "source": [
    "### **If**\n",
    "If statement is the most simple decision making statement. It is used to decide whether a certain statement or block of statements will be executed or not i.e if a certain condition is true then a block of statement is executed otherwise not."
   ]
  },
  {
   "cell_type": "code",
   "execution_count": 1,
   "metadata": {
    "colab": {},
    "colab_type": "code",
    "id": "BUAHVyJQ2bZ-"
   },
   "outputs": [
    {
     "ename": "IndentationError",
     "evalue": "expected an indented block (<ipython-input-1-8bf8d314c2f9>, line 4)",
     "output_type": "error",
     "traceback": [
      "\u001b[1;36m  File \u001b[1;32m\"<ipython-input-1-8bf8d314c2f9>\"\u001b[1;36m, line \u001b[1;32m4\u001b[0m\n\u001b[1;33m    print (\"10 is less than 15\")\u001b[0m\n\u001b[1;37m    ^\u001b[0m\n\u001b[1;31mIndentationError\u001b[0m\u001b[1;31m:\u001b[0m expected an indented block\n"
     ]
    }
   ],
   "source": [
    "# If \n",
    "i = 10\n",
    "if (i > 15): \n",
    "print (\"10 is less than 15\") \n",
    "print (\"I am Not in if\") "
   ]
  },
  {
   "cell_type": "code",
   "execution_count": 2,
   "metadata": {
    "colab": {},
    "colab_type": "code",
    "id": "O7w30FZvwdYK"
   },
   "outputs": [
    {
     "name": "stdout",
     "output_type": "stream",
     "text": [
      "-1\n",
      "the value of var is negative\n",
      "the value of var is negative\n"
     ]
    }
   ],
   "source": [
    "var = -1\n",
    "if var < 0:\n",
    "  print (var)\n",
    "  print (\"the value of var is negative\")\n",
    "# If the suite of an if clause consists only of a single line, it may go on\n",
    "# the same line as the header statement\n",
    "if ( var == -1 ) : print (\"the value of var is negative\")"
   ]
  },
  {
   "cell_type": "markdown",
   "metadata": {
    "colab_type": "text",
    "id": "H-W43tbu2RZA"
   },
   "source": [
    "### **If Else**\n",
    "The if statement alone tells us that if a condition is true it will execute a block of statements and if the condition is false it won’t. But what if we want to do something else if the condition is false. Here comes the else statement. We can use the else statement with if statement to execute a block of code when the condition is false."
   ]
  },
  {
   "cell_type": "code",
   "execution_count": 3,
   "metadata": {
    "colab": {},
    "colab_type": "code",
    "id": "N_k4NF8m123s"
   },
   "outputs": [
    {
     "name": "stdout",
     "output_type": "stream",
     "text": [
      "i is greater than 15\n",
      "i'm in else Block\n",
      "i'm not in if and not in else Block\n"
     ]
    }
   ],
   "source": [
    "# If Else\n",
    "i = 20; \n",
    "if (i < 15): \n",
    "\tprint (\"i is smaller than 15\") \n",
    "\tprint (\"i'm in if Block\") \n",
    "else: \n",
    "\tprint (\"i is greater than 15\") \n",
    "\tprint (\"i'm in else Block\") \n",
    "print (\"i'm not in if and not in else Block\") "
   ]
  },
  {
   "cell_type": "code",
   "execution_count": 4,
   "metadata": {
    "colab": {},
    "colab_type": "code",
    "id": "jYR9aycrxs_h"
   },
   "outputs": [
    {
     "name": "stdout",
     "output_type": "stream",
     "text": [
      "the value of var is positive\n",
      "1\n"
     ]
    }
   ],
   "source": [
    "var = 1\n",
    "if var < 0:\n",
    "  print (\"the value of var is negative\")\n",
    "  print (var)\n",
    "else:\n",
    "  print (\"the value of var is positive\")\n",
    "  print (var)"
   ]
  },
  {
   "cell_type": "markdown",
   "metadata": {
    "colab_type": "text",
    "id": "elccbwqkx_T9"
   },
   "source": [
    "Example Code for Nested “if else” Statements"
   ]
  },
  {
   "cell_type": "code",
   "execution_count": 5,
   "metadata": {
    "colab": {},
    "colab_type": "code",
    "id": "8Ccaynbjx3qt"
   },
   "outputs": [
    {
     "name": "stdout",
     "output_type": "stream",
     "text": [
      "B\n"
     ]
    }
   ],
   "source": [
    "score = 95\n",
    "if score >= 99:\n",
    "  print('A')\n",
    "elif score >=75:\n",
    "  print('B')\n",
    "elif score >= 60:\n",
    "  print('C')\n",
    "elif score >= 35:\n",
    "  print('D')\n",
    "else:\n",
    "  print('F')"
   ]
  },
  {
   "cell_type": "markdown",
   "metadata": {
    "colab_type": "text",
    "id": "nIV-rUsO3a-9"
   },
   "source": [
    "## **For Statement**\n",
    "For loops, in general, are used for sequential traversal. It falls under the category of definite iteration. Definite iterations means the number of repetitions is specified explicitly in advance. "
   ]
  },
  {
   "cell_type": "code",
   "execution_count": 6,
   "metadata": {
    "colab": {},
    "colab_type": "code",
    "id": "J_EVPKkL3a_B"
   },
   "outputs": [
    {
     "name": "stdout",
     "output_type": "stream",
     "text": [
      "List Iteration\n",
      "geeks\n",
      "for\n",
      "geeks\n"
     ]
    }
   ],
   "source": [
    "# For loop\n",
    "print(\"List Iteration\")  \n",
    "l = [\"geeks\", \"for\", \"geeks\"]  \n",
    "for i in l:  \n",
    "    print(i) "
   ]
  },
  {
   "cell_type": "code",
   "execution_count": 7,
   "metadata": {
    "colab": {},
    "colab_type": "code",
    "id": "8hlTd6KiyFr9"
   },
   "outputs": [
    {
     "name": "stdout",
     "output_type": "stream",
     "text": [
      "First Example\n",
      "item : 1\n",
      "item : 2\n",
      "item : 3\n",
      "item : 4\n",
      "item : 5\n",
      "Second Example\n",
      "First loop letter : A\n",
      "First loop letter : B\n",
      "First loop letter : C\n",
      "Third Example\n",
      "First loop letter : A\n",
      "First loop letter : B\n",
      "First loop letter : C\n",
      "Fourth Example\n",
      "item : 1\n",
      "item : 2\n",
      "item : 3\n",
      "item : 4\n",
      "item : 5\n",
      "looping over item complete!\n"
     ]
    }
   ],
   "source": [
    "# First Example\n",
    "print (\"First Example\")\n",
    "for item in [1,2,3,4,5]:\n",
    "  print ('item :', item)\n",
    "# Second Example\n",
    "print (\"Second Example\")\n",
    "letters = ['A', 'B', 'C']\n",
    "for letter in letters:\n",
    "  print ('First loop letter :', letter)\n",
    "# Third Example - Iterating by sequency index\n",
    "print (\"Third Example\")\n",
    "for index in range(len(letters)):\n",
    "  print ('First loop letter :', letters[index])\n",
    "# Fourth Example - Using else statement\n",
    "print (\"Fourth Example\")\n",
    "for item in [1,2,3,4,5]:\n",
    "  print ('item :', item)\n",
    "else:\n",
    "  print ('looping over item complete!')"
   ]
  },
  {
   "cell_type": "markdown",
   "metadata": {
    "colab_type": "text",
    "id": "WyhnbCo-yns_"
   },
   "source": [
    "Caution: I f a condition never becomes FALSE, the loop becomes an infinite loop."
   ]
  },
  {
   "cell_type": "markdown",
   "metadata": {
    "colab_type": "text",
    "id": "SPajpZiv2-Yh"
   },
   "source": [
    "## **While Statement**\n",
    "While Loops is used to execute a block of statements repeatedly until a given condition is satisfied. And when the condition becomes false, the line immediately after the loop in the program is executed. While loop falls under the category of indefinite iteration. Indefinite iteration means that the number of times the loop is executed isn’t specified explicitly in advance."
   ]
  },
  {
   "cell_type": "code",
   "execution_count": 8,
   "metadata": {
    "colab": {},
    "colab_type": "code",
    "id": "QWGFtQOw3Gyo"
   },
   "outputs": [
    {
     "name": "stdout",
     "output_type": "stream",
     "text": [
      "Hello Geek\n",
      "Hello Geek\n",
      "Hello Geek\n",
      "\n"
     ]
    }
   ],
   "source": [
    "# while loop \n",
    "count = 0\n",
    "while (count < 3):\t \n",
    "\tcount = count + 1\n",
    "\tprint(\"Hello Geek\") \n",
    "\n",
    "print() "
   ]
  },
  {
   "cell_type": "code",
   "execution_count": 9,
   "metadata": {
    "colab": {},
    "colab_type": "code",
    "id": "16vrGePPyvmz"
   },
   "outputs": [
    {
     "name": "stdout",
     "output_type": "stream",
     "text": [
      "0  is less than 5\n",
      "1  is less than 5\n",
      "2  is less than 5\n",
      "3  is less than 5\n",
      "4  is less than 5\n",
      "5  is not less than 5\n"
     ]
    }
   ],
   "source": [
    "count = 0\n",
    "while count < 5:\n",
    "  print (count, \" is less than 5\")\n",
    "  count = count + 1\n",
    "else:\n",
    "  print (count, \" is not less than 5\")"
   ]
  }
 ],
 "metadata": {
  "colab": {
   "include_colab_link": true,
   "name": "Copy of 003_control-flow",
   "provenance": []
  },
  "kernelspec": {
   "display_name": "Python 3",
   "language": "python",
   "name": "python3"
  },
  "language_info": {
   "codemirror_mode": {
    "name": "ipython",
    "version": 3
   },
   "file_extension": ".py",
   "mimetype": "text/x-python",
   "name": "python",
   "nbconvert_exporter": "python",
   "pygments_lexer": "ipython3",
   "version": "3.8.3"
  }
 },
 "nbformat": 4,
 "nbformat_minor": 1
}
