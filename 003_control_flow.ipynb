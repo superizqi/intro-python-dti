{
  "nbformat": 4,
  "nbformat_minor": 0,
  "metadata": {
    "colab": {
      "name": "Copy of 003_control-flow",
      "provenance": [],
      "include_colab_link": true
    },
    "kernelspec": {
      "name": "python3",
      "display_name": "Python 3"
    }
  },
  "cells": [
    {
      "cell_type": "markdown",
      "metadata": {
        "id": "view-in-github",
        "colab_type": "text"
      },
      "source": [
        "<a href=\"https://colab.research.google.com/github/yudhafebrianta/intro-python/blob/master/003_control_flow.ipynb\" target=\"_parent\"><img src=\"https://colab.research.google.com/assets/colab-badge.svg\" alt=\"Open In Colab\"/></a>"
      ]
    },
    {
      "cell_type": "markdown",
      "metadata": {
        "id": "K62nVPYYwPRt",
        "colab_type": "text"
      },
      "source": [
        "*Research Center Digital Business Ecosystem - Telkom University*\n",
        "\n",
        "\n",
        "---\n",
        "\n"
      ]
    },
    {
      "cell_type": "markdown",
      "metadata": {
        "id": "0lv5orlUufRY",
        "colab_type": "text"
      },
      "source": [
        "# **Control Flow**\n",
        "Control flow (or flow of control) is the order in which individual statements, instructions or function calls of an imperative program are executed or evaluated."
      ]
    },
    {
      "cell_type": "markdown",
      "metadata": {
        "id": "4RbjRwPT2Ncu",
        "colab_type": "text"
      },
      "source": [
        "## **If Statement**"
      ]
    },
    {
      "cell_type": "markdown",
      "metadata": {
        "id": "2EW91AFVuYzA",
        "colab_type": "text"
      },
      "source": [
        "### **If**\n",
        "If statement is the most simple decision making statement. It is used to decide whether a certain statement or block of statements will be executed or not i.e if a certain condition is true then a block of statement is executed otherwise not."
      ]
    },
    {
      "cell_type": "code",
      "metadata": {
        "id": "BUAHVyJQ2bZ-",
        "colab_type": "code",
        "colab": {}
      },
      "source": [
        "# If \n",
        "i = 10\n",
        "if (i > 15): \n",
        "print (\"10 is less than 15\") \n",
        "print (\"I am Not in if\") "
      ],
      "execution_count": null,
      "outputs": []
    },
    {
      "cell_type": "code",
      "metadata": {
        "id": "O7w30FZvwdYK",
        "colab_type": "code",
        "colab": {}
      },
      "source": [
        "var = -1\n",
        "if var < 0:\n",
        "  print (var)\n",
        "  print (\"the value of var is negative\")\n",
        "# If the suite of an if clause consists only of a single line, it may go on\n",
        "# the same line as the header statement\n",
        "if ( var == -1 ) : print (\"the value of var is negative\")"
      ],
      "execution_count": null,
      "outputs": []
    },
    {
      "cell_type": "markdown",
      "metadata": {
        "colab_type": "text",
        "id": "H-W43tbu2RZA"
      },
      "source": [
        "### **If Else**\n",
        "The if statement alone tells us that if a condition is true it will execute a block of statements and if the condition is false it won’t. But what if we want to do something else if the condition is false. Here comes the else statement. We can use the else statement with if statement to execute a block of code when the condition is false."
      ]
    },
    {
      "cell_type": "code",
      "metadata": {
        "id": "N_k4NF8m123s",
        "colab_type": "code",
        "colab": {}
      },
      "source": [
        "# If Else\n",
        "i = 20; \n",
        "if (i < 15): \n",
        "\tprint (\"i is smaller than 15\") \n",
        "\tprint (\"i'm in if Block\") \n",
        "else: \n",
        "\tprint (\"i is greater than 15\") \n",
        "\tprint (\"i'm in else Block\") \n",
        "print (\"i'm not in if and not in else Block\") "
      ],
      "execution_count": null,
      "outputs": []
    },
    {
      "cell_type": "code",
      "metadata": {
        "id": "jYR9aycrxs_h",
        "colab_type": "code",
        "colab": {}
      },
      "source": [
        "var = 1\n",
        "if var < 0:\n",
        "  print (\"the value of var is negative\")\n",
        "  print (var)\n",
        "else:\n",
        "  print (\"the value of var is positive\")\n",
        "  print (var)"
      ],
      "execution_count": null,
      "outputs": []
    },
    {
      "cell_type": "markdown",
      "metadata": {
        "id": "elccbwqkx_T9",
        "colab_type": "text"
      },
      "source": [
        "Example Code for Nested “if else” Statements"
      ]
    },
    {
      "cell_type": "code",
      "metadata": {
        "id": "8Ccaynbjx3qt",
        "colab_type": "code",
        "colab": {}
      },
      "source": [
        "score = 95\n",
        "if score >= 99:\n",
        "  print('A')\n",
        "elif score >=75:\n",
        "  print('B')\n",
        "elif score >= 60:\n",
        "  print('C')\n",
        "elif score >= 35:\n",
        "  print('D')\n",
        "else:\n",
        "  print('F')"
      ],
      "execution_count": null,
      "outputs": []
    },
    {
      "cell_type": "markdown",
      "metadata": {
        "colab_type": "text",
        "id": "nIV-rUsO3a-9"
      },
      "source": [
        "## **For Statement**\n",
        "For loops, in general, are used for sequential traversal. It falls under the category of definite iteration. Definite iterations means the number of repetitions is specified explicitly in advance. "
      ]
    },
    {
      "cell_type": "code",
      "metadata": {
        "colab_type": "code",
        "id": "J_EVPKkL3a_B",
        "colab": {}
      },
      "source": [
        "# For loop\n",
        "print(\"List Iteration\")  \n",
        "l = [\"geeks\", \"for\", \"geeks\"]  \n",
        "for i in l:  \n",
        "    print(i) "
      ],
      "execution_count": null,
      "outputs": []
    },
    {
      "cell_type": "code",
      "metadata": {
        "id": "8hlTd6KiyFr9",
        "colab_type": "code",
        "colab": {}
      },
      "source": [
        "# First Example\n",
        "print (\"First Example\")\n",
        "for item in [1,2,3,4,5]:\n",
        "  print ('item :', item)\n",
        "# Second Example\n",
        "print (\"Second Example\")\n",
        "letters = ['A', 'B', 'C']\n",
        "for letter in letters:\n",
        "  print ('First loop letter :', letter)\n",
        "# Third Example - Iterating by sequency index\n",
        "print (\"Third Example\")\n",
        "for index in range(len(letters)):\n",
        "  print ('First loop letter :', letters[index])\n",
        "# Fourth Example - Using else statement\n",
        "print (\"Fourth Example\")\n",
        "for item in [1,2,3,4,5]:\n",
        "  print ('item :', item)\n",
        "else:\n",
        "  print ('looping over item complete!')"
      ],
      "execution_count": null,
      "outputs": []
    },
    {
      "cell_type": "markdown",
      "metadata": {
        "id": "WyhnbCo-yns_",
        "colab_type": "text"
      },
      "source": [
        "Caution: I f a condition never becomes FALSE, the loop becomes an infinite loop."
      ]
    },
    {
      "cell_type": "markdown",
      "metadata": {
        "colab_type": "text",
        "id": "SPajpZiv2-Yh"
      },
      "source": [
        "## **While Statement**\n",
        "While Loops is used to execute a block of statements repeatedly until a given condition is satisfied. And when the condition becomes false, the line immediately after the loop in the program is executed. While loop falls under the category of indefinite iteration. Indefinite iteration means that the number of times the loop is executed isn’t specified explicitly in advance."
      ]
    },
    {
      "cell_type": "code",
      "metadata": {
        "id": "QWGFtQOw3Gyo",
        "colab_type": "code",
        "colab": {}
      },
      "source": [
        "# while loop \n",
        "count = 0\n",
        "while (count < 3):\t \n",
        "\tcount = count + 1\n",
        "\tprint(\"Hello Geek\") \n",
        "\n",
        "print() "
      ],
      "execution_count": null,
      "outputs": []
    },
    {
      "cell_type": "code",
      "metadata": {
        "id": "16vrGePPyvmz",
        "colab_type": "code",
        "colab": {}
      },
      "source": [
        "count = 0\n",
        "while count < 5:\n",
        "  print (count, \" is less than 5\")\n",
        "  count = count + 1\n",
        "else:\n",
        "  print (count, \" is not less than 5\")"
      ],
      "execution_count": null,
      "outputs": []
    }
  ]
}