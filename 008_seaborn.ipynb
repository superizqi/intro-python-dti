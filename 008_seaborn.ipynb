{
  "nbformat": 4,
  "nbformat_minor": 0,
  "metadata": {
    "colab": {
      "name": "008_seaborn",
      "provenance": [],
      "authorship_tag": "ABX9TyOJHU4HJpsDjRQL/gB53Mai",
      "include_colab_link": true
    },
    "kernelspec": {
      "name": "python3",
      "display_name": "Python 3"
    }
  },
  "cells": [
    {
      "cell_type": "markdown",
      "metadata": {
        "id": "view-in-github",
        "colab_type": "text"
      },
      "source": [
        "<a href=\"https://colab.research.google.com/github/rc-dbe/intro-python/blob/master/008_seaborn.ipynb\" target=\"_parent\"><img src=\"https://colab.research.google.com/assets/colab-badge.svg\" alt=\"Open In Colab\"/></a>"
      ]
    },
    {
      "cell_type": "markdown",
      "metadata": {
        "id": "K62nVPYYwPRt",
        "colab_type": "text"
      },
      "source": [
        "*Research Center Digital Business Ecosystem - Telkom University*\n",
        "\n",
        "\n",
        "---\n",
        "\n"
      ]
    },
    {
      "cell_type": "markdown",
      "metadata": {
        "id": "0lv5orlUufRY",
        "colab_type": "text"
      },
      "source": [
        "# **Seaborn**\n",
        "Seaborn is an amazing visualization library for statistical graphics plotting in Python. It provides beautiful default styles and color palettes to make statistical plots more attractive. It is built on the top of matplotlib library and also closely integrated to the data structures from pandas.\n",
        "Seaborn aims to make visualization the central part of exploring and understanding data. It provides dataset-oriented APIs, so that we can switch between different visual representations for same variables for better understanding of dataset."
      ]
    },
    {
      "cell_type": "code",
      "metadata": {
        "id": "qx8X5L7k86V0",
        "colab_type": "code",
        "colab": {}
      },
      "source": [
        "# Import Seabron\n",
        "import seaborn as sns "
      ],
      "execution_count": null,
      "outputs": []
    },
    {
      "cell_type": "markdown",
      "metadata": {
        "id": "rR_pedNY_M5e",
        "colab_type": "text"
      },
      "source": [
        "## **Some basic plots using seaborn**"
      ]
    },
    {
      "cell_type": "code",
      "metadata": {
        "id": "nENAUSTv_Mbc",
        "colab_type": "code",
        "colab": {}
      },
      "source": [
        "# Distribution Plot\n",
        "\n",
        "# Importing libraries \n",
        "import numpy as np \n",
        "\n",
        "# Selecting style as white, \n",
        "# dark, whitegrid, darkgrid \n",
        "# or ticks \n",
        "sns.set(style=\"white\") \n",
        "\n",
        "# Generate a random univariate \n",
        "# dataset \n",
        "rs = np.random.RandomState(10) \n",
        "d = rs.normal(size=100) \n",
        "\n",
        "# Plot a simple histogram and kde \n",
        "# with binsize determined automatically \n",
        "sns.distplot(d, kde=True, color=\"m\")"
      ],
      "execution_count": null,
      "outputs": []
    },
    {
      "cell_type": "code",
      "metadata": {
        "id": "6AO1wr-J_UVR",
        "colab_type": "code",
        "colab": {}
      },
      "source": [
        "# Line Plot \n",
        "\n",
        "sns.set(style=\"dark\") \n",
        "fmri = sns.load_dataset(\"fmri\") \n",
        "\n",
        "# Plot the responses for different\\ \n",
        "# events and regions \n",
        "sns.lineplot(x=\"timepoint\", \n",
        "\t\t\ty=\"signal\", \n",
        "\t\t\thue=\"region\", \n",
        "\t\t\tstyle=\"event\", \n",
        "\t\t\tdata=fmri)"
      ],
      "execution_count": null,
      "outputs": []
    }
  ]
}