{
  "nbformat": 4,
  "nbformat_minor": 0,
  "metadata": {
    "colab": {
      "name": "006_pandas",
      "provenance": [],
      "authorship_tag": "ABX9TyMMVTO1wWQT7FtHBLMIbCxT",
      "include_colab_link": true
    },
    "kernelspec": {
      "name": "python3",
      "display_name": "Python 3"
    }
  },
  "cells": [
    {
      "cell_type": "markdown",
      "metadata": {
        "id": "view-in-github",
        "colab_type": "text"
      },
      "source": [
        "<a href=\"https://colab.research.google.com/github/rc-dbe/intro-python/blob/master/006_pandas.ipynb\" target=\"_parent\"><img src=\"https://colab.research.google.com/assets/colab-badge.svg\" alt=\"Open In Colab\"/></a>"
      ]
    },
    {
      "cell_type": "markdown",
      "metadata": {
        "id": "K62nVPYYwPRt",
        "colab_type": "text"
      },
      "source": [
        "*Research Center Digital Business Ecosystem - Telkom University*\n",
        "\n",
        "\n",
        "---\n",
        "\n"
      ]
    },
    {
      "cell_type": "markdown",
      "metadata": {
        "id": "0lv5orlUufRY",
        "colab_type": "text"
      },
      "source": [
        "# **Pandas**\n",
        "Pandas is an open-source library that is made mainly for working with relational or labeled data both easily and intuitively. It provides various data structures and operations for manipulating numerical data and time series. This library is built on the top of the NumPy library. Pandas is fast and it has high-performance & productivity for users."
      ]
    },
    {
      "cell_type": "code",
      "metadata": {
        "id": "qx8X5L7k86V0",
        "colab_type": "code",
        "colab": {}
      },
      "source": [
        "# Import Pandas\n",
        "import pandas as pd  "
      ],
      "execution_count": null,
      "outputs": []
    },
    {
      "cell_type": "markdown",
      "metadata": {
        "id": "dqijjXhs8zAX",
        "colab_type": "text"
      },
      "source": [
        "## **Series**\n",
        "Pandas Series is a one-dimensional labeled array capable of holding data of any type (integer, string, float, python objects, etc.). The axis labels are collectively called index. Pandas Series is nothing but a column in an excel sheet. Labels need not be unique but must be a hashable type. The object supports both integer and label-based indexing and provides a host of methods for performing operations involving the index."
      ]
    },
    {
      "cell_type": "code",
      "metadata": {
        "id": "caHMLYIq8-5y",
        "colab_type": "code",
        "colab": {}
      },
      "source": [
        "# Import Numpy\n",
        "import numpy as np \n",
        "\n",
        "# Creating empty series  \n",
        "ser = pd.Series()  \n",
        "print(ser)  "
      ],
      "execution_count": null,
      "outputs": []
    },
    {
      "cell_type": "code",
      "metadata": {
        "id": "Kz__eTbY9Hcq",
        "colab_type": "code",
        "colab": {}
      },
      "source": [
        "# simple array  \n",
        "data = np.array(['g', 'e', 'e', 'k', 's'])  \n",
        "    \n",
        "ser = pd.Series(data)  \n",
        "print(ser)"
      ],
      "execution_count": null,
      "outputs": []
    },
    {
      "cell_type": "markdown",
      "metadata": {
        "colab_type": "text",
        "id": "929BUFsl9KTC"
      },
      "source": [
        "## **DataFrame**\n",
        "Pandas DataFrame is two-dimensional size-mutable, potentially heterogeneous tabular data structure with labeled axes (rows and columns). A Data frame is a two-dimensional data structure, i.e., data is aligned in a tabular fashion in rows and columns. Pandas DataFrame consists of three principal components, the data, rows, and columns"
      ]
    },
    {
      "cell_type": "code",
      "metadata": {
        "id": "FY-7II0s9MV3",
        "colab_type": "code",
        "colab": {}
      },
      "source": [
        "# Calling DataFrame constructor \n",
        "df = pd.DataFrame() \n",
        "print(df) "
      ],
      "execution_count": null,
      "outputs": []
    },
    {
      "cell_type": "code",
      "metadata": {
        "id": "Rez_fsUD9Qn6",
        "colab_type": "code",
        "colab": {}
      },
      "source": [
        "# list of strings \n",
        "lst = ['Geeks', 'For', 'Geeks', 'is', \n",
        "\t\t\t'portal', 'for', 'Geeks'] \n",
        "\t\n",
        "# Calling DataFrame constructor on list \n",
        "df = pd.DataFrame(lst) \n",
        "print(df) "
      ],
      "execution_count": null,
      "outputs": []
    },
    {
      "cell_type": "code",
      "metadata": {
        "id": "lOWcvAQSsXIQ",
        "colab_type": "code",
        "colab": {}
      },
      "source": [
        "# Dataframe from a csv data\n",
        "df_csv = pd.read_csv(\"https://raw.githubusercontent.com/rc-dbe/intro-python/master/data/bank-marketing.csv\", sep= \";\")"
      ],
      "execution_count": null,
      "outputs": []
    },
    {
      "cell_type": "code",
      "metadata": {
        "id": "Yt78MJohtgs3",
        "colab_type": "code",
        "colab": {}
      },
      "source": [
        "# Show the first 5 row\n",
        "df_csv.head()"
      ],
      "execution_count": null,
      "outputs": []
    },
    {
      "cell_type": "code",
      "metadata": {
        "id": "3wNgsqSFtr2g",
        "colab_type": "code",
        "colab": {}
      },
      "source": [
        "# Select a Colomn \n",
        "age = df_csv[['age']]\n",
        "type(age)"
      ],
      "execution_count": null,
      "outputs": []
    }
  ]
}