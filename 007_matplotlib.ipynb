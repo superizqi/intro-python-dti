{
  "nbformat": 4,
  "nbformat_minor": 0,
  "metadata": {
    "colab": {
      "name": "007_matplotlib",
      "provenance": [],
      "authorship_tag": "ABX9TyMYLxCaJ2iiQCKQU/Gqhi6z",
      "include_colab_link": true
    },
    "kernelspec": {
      "name": "python3",
      "display_name": "Python 3"
    }
  },
  "cells": [
    {
      "cell_type": "markdown",
      "metadata": {
        "id": "view-in-github",
        "colab_type": "text"
      },
      "source": [
        "<a href=\"https://colab.research.google.com/github/rc-dbe/intro-python/blob/master/007_matplotlib.ipynb\" target=\"_parent\"><img src=\"https://colab.research.google.com/assets/colab-badge.svg\" alt=\"Open In Colab\"/></a>"
      ]
    },
    {
      "cell_type": "markdown",
      "metadata": {
        "id": "K62nVPYYwPRt",
        "colab_type": "text"
      },
      "source": [
        "*Research Center Digital Business Ecosystem - Telkom University*\n",
        "\n",
        "\n",
        "---\n",
        "\n"
      ]
    },
    {
      "cell_type": "markdown",
      "metadata": {
        "id": "0lv5orlUufRY",
        "colab_type": "text"
      },
      "source": [
        "# **Matplotlib**\n",
        "Matplotlib is an amazing visualization library in Python for 2D plots of arrays. Matplotlib is a multi-platform data visualization library built on NumPy arrays and designed to work with the broader SciPy stack. It was introduced by John Hunter in the year 2002.\n",
        "\n",
        "One of the greatest benefits of visualization is that it allows us visual access to huge amounts of data in easily digestible visuals. Matplotlib consists of several plots like line, bar, scatter, histogram etc."
      ]
    },
    {
      "cell_type": "code",
      "metadata": {
        "id": "qx8X5L7k86V0",
        "colab_type": "code",
        "colab": {}
      },
      "source": [
        "# Import Matplotlib\n",
        "import matplotlib.pyplot as plt "
      ],
      "execution_count": null,
      "outputs": []
    },
    {
      "cell_type": "markdown",
      "metadata": {
        "id": "dqijjXhs8zAX",
        "colab_type": "text"
      },
      "source": [
        "## **Basic plots in Matplotlib**\n",
        "Matplotlib comes with a wide variety of plots. Plots helps to understand trends, patterns, and to make correlations. They’re typically instruments for reasoning about quantitative information. Some of the sample plots are covered here."
      ]
    },
    {
      "cell_type": "code",
      "metadata": {
        "id": "QXGcXF7I-Q8_",
        "colab_type": "code",
        "colab": {}
      },
      "source": [
        "# Line Plot\n",
        "\n",
        "# x-axis values \n",
        "x = [5, 2, 9, 4, 7] \n",
        "  \n",
        "# Y-axis values \n",
        "y = [10, 5, 8, 4, 2] \n",
        "  \n",
        "# Function to plot \n",
        "plt.plot(x,y) \n",
        "  \n",
        "# function to show the plot \n",
        "plt.show() "
      ],
      "execution_count": null,
      "outputs": []
    },
    {
      "cell_type": "code",
      "metadata": {
        "id": "bxm5XHSl-WTy",
        "colab_type": "code",
        "colab": {}
      },
      "source": [
        "# Bar Plot\n",
        "\n",
        "# x-axis values \n",
        "x = [5, 2, 9, 4, 7] \n",
        "\n",
        "# Y-axis values \n",
        "y = [10, 5, 8, 4, 2] \n",
        "\n",
        "# Function to plot the bar \n",
        "plt.bar(x,y) \n",
        "\n",
        "# function to show the plot \n",
        "plt.show() \n"
      ],
      "execution_count": null,
      "outputs": []
    },
    {
      "cell_type": "code",
      "metadata": {
        "id": "TDcO8qiT-age",
        "colab_type": "code",
        "colab": {}
      },
      "source": [
        "# Scatter PLot\n",
        "\n",
        "# x-axis values \n",
        "x = [5, 2, 9, 4, 7] \n",
        "  \n",
        "# Y-axis values \n",
        "y = [10, 5, 8, 4, 2] \n",
        "  \n",
        "# Function to plot scatter \n",
        "plt.scatter(x, y) \n",
        "  \n",
        "# function to show the plot \n",
        "plt.show() "
      ],
      "execution_count": null,
      "outputs": []
    }
  ]
}